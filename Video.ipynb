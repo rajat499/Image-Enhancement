{
 "cells": [
  {
   "cell_type": "code",
   "execution_count": 1,
   "id": "2f709113",
   "metadata": {},
   "outputs": [],
   "source": [
    "from skimage.exposure import equalize_adapthist\n",
    "import cv2\n",
    "import numpy as np\n",
    "from utils import read_image\n",
    "import os\n",
    "from PIL import Image"
   ]
  },
  {
   "cell_type": "code",
   "execution_count": 2,
   "id": "14981156",
   "metadata": {},
   "outputs": [],
   "source": [
    "file = './data/night_time_video_iitd.mp4'\n",
    "file_rgb = './data/rgb_equalized_night_time_video_iitd.mp4'\n",
    "file_hsv = './data/hsv_equalized_night_time_video_iitd.mp4'"
   ]
  },
  {
   "cell_type": "code",
   "execution_count": 3,
   "id": "8986daba",
   "metadata": {},
   "outputs": [],
   "source": [
    "def convert_to_night_mode_rgb(image):\n",
    "    ib, ig, ir = cv2.split(image)\n",
    "    r, g, b = equalize_adapthist(np.array([ir, ig, ib]))\n",
    "    image = np.dstack([b*255, g*255, r*255]).astype('uint8')\n",
    "    return image\n",
    "\n",
    "def convert_to_night_mode_hsv(image):\n",
    "    h, s, v = cv2.split(cv2.cvtColor(image, cv2.COLOR_BGR2HSV))\n",
    "    v = (equalize_adapthist(v)*255).astype('uint8')\n",
    "    return cv2.cvtColor(cv2.merge([h, s, v]), cv2.COLOR_HSV2BGR).astype('uint8')"
   ]
  },
  {
   "cell_type": "code",
   "execution_count": 4,
   "id": "5c0fc2c1",
   "metadata": {},
   "outputs": [],
   "source": [
    "def video_enhance(file, file_rgb, file_hsv):\n",
    "    \n",
    "    video = cv2.VideoCapture(file)\n",
    "    \n",
    "    frame = int(video.get(cv2.CAP_PROP_FPS))\n",
    "    h = int(video.get(cv2.CAP_PROP_FRAME_HEIGHT))\n",
    "    w = int(video.get(cv2.CAP_PROP_FRAME_WIDTH))\n",
    "    \n",
    "    out_rgb = cv2.VideoWriter(file_rgb, cv2.VideoWriter_fourcc(*'MP4V'), frame, (w, h))\n",
    "    out_hsv = cv2.VideoWriter(file_hsv, cv2.VideoWriter_fourcc(*'MP4V'), frame, (w, h))\n",
    "    \n",
    "    current = 0\n",
    "    while True:\n",
    "        ret, frame = video.read()\n",
    "        if ret:\n",
    "            out_rgb.write(convert_to_night_mode_rgb(frame))\n",
    "            out_hsv.write(convert_to_night_mode_hsv(frame))\n",
    "        else:\n",
    "            break\n",
    "        current += 1\n",
    "        if current%30==0:\n",
    "            print(current)\n",
    "    out_rgb.release()\n",
    "    out_hsv.release()\n",
    "    video.release()"
   ]
  },
  {
   "cell_type": "code",
   "execution_count": 5,
   "id": "2ab6b2ab",
   "metadata": {},
   "outputs": [
    {
     "name": "stderr",
     "output_type": "stream",
     "text": [
      "OpenCV: FFMPEG: tag 0x5634504d/'MP4V' is not supported with codec id 12 and format 'mp4 / MP4 (MPEG-4 Part 14)'\n",
      "OpenCV: FFMPEG: fallback to use tag 0x7634706d/'mp4v'\n",
      "OpenCV: FFMPEG: tag 0x5634504d/'MP4V' is not supported with codec id 12 and format 'mp4 / MP4 (MPEG-4 Part 14)'\n",
      "OpenCV: FFMPEG: fallback to use tag 0x7634706d/'mp4v'\n"
     ]
    },
    {
     "name": "stdout",
     "output_type": "stream",
     "text": [
      "30\n",
      "60\n",
      "90\n",
      "120\n",
      "150\n",
      "180\n",
      "210\n",
      "240\n",
      "270\n",
      "300\n",
      "330\n",
      "360\n"
     ]
    }
   ],
   "source": [
    "video_enhance(file, file_rgb, file_hsv)"
   ]
  },
  {
   "cell_type": "code",
   "execution_count": null,
   "id": "30ab2144",
   "metadata": {},
   "outputs": [],
   "source": []
  }
 ],
 "metadata": {
  "kernelspec": {
   "display_name": "Python 3 (ipykernel)",
   "language": "python",
   "name": "python3"
  },
  "language_info": {
   "codemirror_mode": {
    "name": "ipython",
    "version": 3
   },
   "file_extension": ".py",
   "mimetype": "text/x-python",
   "name": "python",
   "nbconvert_exporter": "python",
   "pygments_lexer": "ipython3",
   "version": "3.8.10"
  }
 },
 "nbformat": 4,
 "nbformat_minor": 5
}
