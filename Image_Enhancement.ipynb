{
 "cells": [
  {
   "cell_type": "code",
   "execution_count": 1,
   "id": "e199c939",
   "metadata": {},
   "outputs": [],
   "source": [
    "from skimage.exposure import equalize_adapthist\n",
    "import cv2\n",
    "import numpy as np\n",
    "from utils import read_image\n",
    "import os\n",
    "from PIL import Image"
   ]
  },
  {
   "cell_type": "code",
   "execution_count": 2,
   "id": "f05b8f47",
   "metadata": {},
   "outputs": [],
   "source": [
    "night_off = 'night_mode_off.jpg'\n",
    "night_on = 'night_mode_on.jpg'\n",
    "fog = 'foggy.png'\n",
    "clear = 'clear.png'"
   ]
  },
  {
   "cell_type": "code",
   "execution_count": 3,
   "id": "6b52bf64",
   "metadata": {},
   "outputs": [],
   "source": [
    "def convert_to_night_mode_rgb(folder, night=True):\n",
    "    night_image = read_image(os.path.join(folder, night_off if night else fog))\n",
    "    ir, ig, ib = cv2.split(night_image)\n",
    "    r, g, b = equalize_adapthist(np.array([ir, ig, ib]))\n",
    "    image = Image.fromarray(np.dstack([r*255, g*255, b*255]).astype('uint8'))\n",
    "    path = os.path.join(folder, 'equalized_rgb_transformed.png')\n",
    "    image.save(path)"
   ]
  },
  {
   "cell_type": "code",
   "execution_count": 4,
   "id": "63122862",
   "metadata": {},
   "outputs": [],
   "source": [
    "def convert_to_night_mode_hsv(folder, night=True):\n",
    "    night_image = cv2.imread(os.path.join(folder, night_off if night else fog), 1)\n",
    "    h, s, v = cv2.split(cv2.cvtColor(night_image, cv2.COLOR_BGR2HSV))\n",
    "    v = (equalize_adapthist(v)*255).astype('uint8')\n",
    "    r, g, b = cv2.split(cv2.cvtColor(cv2.merge([h, s, v]), cv2.COLOR_HSV2RGB))\n",
    "    image = Image.fromarray(np.dstack([r, g, b]).astype('uint8'))\n",
    "    path = os.path.join(folder, 'equalized_hsv_transformed.png')\n",
    "    image.save(path)"
   ]
  },
  {
   "cell_type": "code",
   "execution_count": 5,
   "id": "05c17ff7",
   "metadata": {},
   "outputs": [],
   "source": [
    "folder = './data/night'\n",
    "night = True\n",
    "for i in range(1, 5):\n",
    "    path = os.path.join(folder, str(i))\n",
    "    convert_to_night_mode_rgb(path, night)\n",
    "    convert_to_night_mode_hsv(path, night)"
   ]
  },
  {
   "cell_type": "code",
   "execution_count": 6,
   "id": "b69fe3de",
   "metadata": {},
   "outputs": [],
   "source": [
    "folder = './data/fog'\n",
    "night = False\n",
    "for i in range(1, 4):\n",
    "    path = os.path.join(folder, str(i))\n",
    "    convert_to_night_mode_rgb(path, night)\n",
    "    convert_to_night_mode_hsv(path, night)"
   ]
  },
  {
   "cell_type": "code",
   "execution_count": null,
   "id": "72c4650c",
   "metadata": {},
   "outputs": [],
   "source": []
  }
 ],
 "metadata": {
  "kernelspec": {
   "display_name": "Python 3 (ipykernel)",
   "language": "python",
   "name": "python3"
  },
  "language_info": {
   "codemirror_mode": {
    "name": "ipython",
    "version": 3
   },
   "file_extension": ".py",
   "mimetype": "text/x-python",
   "name": "python",
   "nbconvert_exporter": "python",
   "pygments_lexer": "ipython3",
   "version": "3.8.10"
  }
 },
 "nbformat": 4,
 "nbformat_minor": 5
}
